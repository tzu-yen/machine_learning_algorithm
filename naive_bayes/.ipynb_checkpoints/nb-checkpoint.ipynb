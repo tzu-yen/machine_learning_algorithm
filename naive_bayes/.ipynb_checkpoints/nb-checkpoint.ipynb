{
 "cells": [
  {
   "cell_type": "code",
   "execution_count": 4,
   "metadata": {
    "collapsed": false
   },
   "outputs": [
    {
     "name": "stdout",
     "output_type": "stream",
     "text": [
      "\n"
     ]
    }
   ],
   "source": [
    "import numpy as np\n",
    "from util import get_data\n",
    "from datetime import datetime\n",
    "from scipy.stats import norm #single dim gaussian\n",
    "from scipy.stats import multivariate_normal as mvn"
   ]
  },
  {
   "cell_type": "code",
   "execution_count": 5,
   "metadata": {
    "collapsed": true
   },
   "outputs": [],
   "source": [
    "class NaiveBayes(object):\n",
    "    def fit(self, X, Y, smoothing=10e-3):\n",
    "        self.gaussians = dict()\n",
    "        self.priors = dict()\n",
    "        labels = set(Y)\n",
    "        for c in labels:\n",
    "            current_x = X[Y==c]\n",
    "            self.gaussians[c] = {'mean': current_x.mean(axis=0), \n",
    "                                 'var':current_x.var(axis=0)+smoothing}\n",
    "            self.priors[c] = np.log(float(len(Y[Y==c]))/len(Y))\n",
    "    \n",
    "    def score(self, X, Y):\n",
    "        P = self.predict(X)\n",
    "        return np.mean(P==Y)\n",
    "    \n",
    "    def predict(self, X):\n",
    "        N, D = X.shape\n",
    "        K = len(self.gaussians)\n",
    "        P = np.zeros((N, K))\n",
    "        for c, g in self.gaussians.iteritems():\n",
    "            mean, var = g['mean'], g['var']\n",
    "            P[:, c] = mvn.logpdf(X, mean=mean, cov=var) + np.log(self.priors[c])\n",
    "        return np.argmax(P, axis=1)"
   ]
  },
  {
   "cell_type": "code",
   "execution_count": 6,
   "metadata": {
    "collapsed": false
   },
   "outputs": [
    {
     "name": "stdout",
     "output_type": "stream",
     "text": [
      "Reading in and transforming data...\n",
      "Training time: 0:00:00.068000\n",
      "Training Accuracy: 0.818\n",
      "Time to compute train accuracy: 0:00:10.430000 Training size: 5000\n",
      "Test Accuracy: 0.8004\n",
      "Time to compute test accuracy: 0:00:10.367000 Test size: 5000\n"
     ]
    }
   ],
   "source": [
    "if __name__ == '__main__':\n",
    "    X, Y = get_data(10000)\n",
    "    Ntrain = len(Y)/2\n",
    "    Xtrain, Ytrain = X[:Ntrain], Y[:Ntrain]\n",
    "    Xtest, Ytest = X[Ntrain:], Y[Ntrain:]\n",
    "    \n",
    "    model = NaiveBayes()\n",
    "    t0 = datetime.now()\n",
    "    model.fit(Xtrain, Ytrain)\n",
    "    print \"Training time:\", (datetime.now()-t0)\n",
    "    \n",
    "    t0 = datetime.now()\n",
    "    print \"Training Accuracy:\", model.score(Xtrain, Ytrain)\n",
    "    print \"Time to compute train accuracy:\", (datetime.now() - t0), \"Training size:\", len(Xtrain)\n",
    "    \n",
    "    t0 = datetime.now()\n",
    "    print \"Test Accuracy:\", model.score(Xtest, Ytest)\n",
    "    print \"Time to compute test accuracy:\", (datetime.now() - t0), \"Test size:\", len(Xtest)"
   ]
  },
  {
   "cell_type": "code",
   "execution_count": null,
   "metadata": {
    "collapsed": true
   },
   "outputs": [],
   "source": []
  }
 ],
 "metadata": {
  "kernelspec": {
   "display_name": "Python 2",
   "language": "python",
   "name": "python2"
  },
  "language_info": {
   "codemirror_mode": {
    "name": "ipython",
    "version": 2
   },
   "file_extension": ".py",
   "mimetype": "text/x-python",
   "name": "python",
   "nbconvert_exporter": "python",
   "pygments_lexer": "ipython2",
   "version": "2.7.10"
  }
 },
 "nbformat": 4,
 "nbformat_minor": 2
}
