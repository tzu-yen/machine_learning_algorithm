{
 "cells": [
  {
   "cell_type": "code",
   "execution_count": 2,
   "metadata": {
    "collapsed": true
   },
   "outputs": [],
   "source": [
    "import numpy as np\n",
    "import matplotlib.pyplot as plt\n",
    "from knn import KNN"
   ]
  },
  {
   "cell_type": "code",
   "execution_count": 3,
   "metadata": {
    "collapsed": true
   },
   "outputs": [],
   "source": [
    "def get_grid_data():\n",
    "    width, height = 8, 8\n",
    "    N = width * height\n",
    "    X = np.zeros((N, 2))\n",
    "    Y = np.zeros(N)\n",
    "    n = 0\n",
    "    start_target = 0\n",
    "    for i in xrange(width):\n",
    "        t = start_target\n",
    "        for j in xrange(height):\n",
    "            X[n] = [i, j]\n",
    "            Y[n] = t\n",
    "            n += 1\n",
    "            t = (t+1) % 2\n",
    "        start_target = (start_target+1) % 2\n",
    "    return X, Y"
   ]
  },
  {
   "cell_type": "code",
   "execution_count": 6,
   "metadata": {
    "collapsed": false
   },
   "outputs": [
    {
     "name": "stdout",
     "output_type": "stream",
     "text": [
      "Train accuracy: 0.0\n"
     ]
    }
   ],
   "source": [
    "if __name__ == '__main__':\n",
    "    X, Y = get_grid_data()\n",
    "    plt.scatter(X[:,0], X[:,1], c=Y, s=100, alpha=0.5)\n",
    "    plt.show()\n",
    "    \n",
    "    model = KNN(3)\n",
    "    model.fit(X, Y)\n",
    "    print 'Train accuracy:', model.score(X, Y)"
   ]
  },
  {
   "cell_type": "code",
   "execution_count": null,
   "metadata": {
    "collapsed": true
   },
   "outputs": [],
   "source": []
  }
 ],
 "metadata": {
  "kernelspec": {
   "display_name": "Python 2",
   "language": "python",
   "name": "python2"
  },
  "language_info": {
   "codemirror_mode": {
    "name": "ipython",
    "version": 2
   },
   "file_extension": ".py",
   "mimetype": "text/x-python",
   "name": "python",
   "nbconvert_exporter": "python",
   "pygments_lexer": "ipython2",
   "version": "2.7.10"
  }
 },
 "nbformat": 4,
 "nbformat_minor": 2
}
