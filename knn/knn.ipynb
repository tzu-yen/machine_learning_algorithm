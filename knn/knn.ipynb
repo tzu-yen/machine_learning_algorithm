{
 "cells": [
  {
   "cell_type": "code",
   "execution_count": 1,
   "metadata": {
    "collapsed": false
   },
   "outputs": [],
   "source": [
    "import numpy as np\n",
    "from sortedcontainers import SortedList\n",
    "from util import get_data\n",
    "from datetime import datetime"
   ]
  },
  {
   "cell_type": "code",
   "execution_count": 2,
   "metadata": {
    "collapsed": true
   },
   "outputs": [],
   "source": [
    "class KNN(object):\n",
    "    def __init__(self, k):\n",
    "        self.k = k\n",
    "        \n",
    "    def fit(self, X, y):\n",
    "        self.X = X\n",
    "        self.y = y\n",
    "    \n",
    "    def predict(self, X):\n",
    "        y = np.zeros(len(X))\n",
    "        for i, x in enumerate(X):\n",
    "            sl = SortedList(load=self.k)\n",
    "            for j, xt in enumerate(self.X):\n",
    "                diff = x - xt\n",
    "                d = diff.dot(diff)\n",
    "                if len(sl) < self.k:\n",
    "                    sl.add((d, self.y[j]))\n",
    "                else:\n",
    "                    if d < sl[-1][0]:\n",
    "                        del sl[-1]\n",
    "                        sl.add((d, self.y[j]))\n",
    "            votes = {}\n",
    "            for _, v in sl:\n",
    "                votes[v] = votes.get(v, 0) + 1\n",
    "            max_votes = 0\n",
    "            max_votes_class = -1\n",
    "            for v, count in votes.iteritems():\n",
    "                if count > max_votes:\n",
    "                    max_votes_class = v\n",
    "                    max_votes = count\n",
    "            y[i] = max_votes_class\n",
    "        return y\n",
    "    \n",
    "    def score(self, X, Y):\n",
    "        pred = self.predict(X)\n",
    "        return np.mean(pred == Y)"
   ]
  },
  {
   "cell_type": "code",
   "execution_count": 3,
   "metadata": {
    "collapsed": false
   },
   "outputs": [
    {
     "name": "stdout",
     "output_type": "stream",
     "text": [
      "Reading in and transforming data...\n",
      "2000 2000\n",
      "Training time: 0:00:00\n",
      "Train accuracy: 1.0\n",
      "Time to compute train accuracy: 0:00:10.880000 Train size: 1000\n",
      "Test accuracy: 0.884\n",
      "Time to compute test accuracy: 0:00:15.019000 Test size: 1000\n",
      "Training time: 0:00:00\n",
      "Train accuracy: 0.95\n",
      "Time to compute train accuracy: 0:00:11.046000 Train size: 1000\n",
      "Test accuracy: 0.874\n",
      "Time to compute test accuracy: 0:00:15.569000 Test size: 1000\n",
      "Training time: 0:00:00\n",
      "Train accuracy: 0.949\n",
      "Time to compute train accuracy: 0:00:12.115000 Train size: 1000\n",
      "Test accuracy: 0.89\n",
      "Time to compute test accuracy: 0:00:17.516000 Test size: 1000\n",
      "Training time: 0:00:00\n",
      "Train accuracy: 0.936\n",
      "Time to compute train accuracy: 0:00:14.235000 Train size: 1000\n",
      "Test accuracy: 0.883\n",
      "Time to compute test accuracy: 0:00:17.375000 Test size: 1000\n",
      "Training time: 0:00:00\n",
      "Train accuracy: 0.925\n",
      "Time to compute train accuracy: 0:00:12.640000 Train size: 1000\n",
      "Test accuracy: 0.885\n",
      "Time to compute test accuracy: 0:00:17.229000 Test size: 1000\n"
     ]
    }
   ],
   "source": [
    "X, Y = get_data(2000)\n",
    "print len(X), len(Y)\n",
    "Ntrain = 1000\n",
    "Xtrain, Ytrain = X[:Ntrain], Y[:Ntrain]\n",
    "Xtest, Ytest = X[Ntrain:], Y[Ntrain:]\n",
    "\n",
    "for k in (1,2,3,4,5):\n",
    "    knn = KNN(k)\n",
    "    t0 = datetime.now()\n",
    "    knn.fit(Xtrain, Ytrain)\n",
    "    print 'Training time:', (datetime.now() - t0)\n",
    "    t0 = datetime.now()\n",
    "    print 'Train accuracy:', knn.score(Xtrain, Ytrain)\n",
    "    print 'Time to compute train accuracy:', (datetime.now()-t0), \"Train size:\", len(Ytrain)\n",
    "    \n",
    "    t0 = datetime.now()\n",
    "    print 'Test accuracy:', knn.score(Xtest, Ytest)\n",
    "    print 'Time to compute test accuracy:', (datetime.now()-t0), \"Test size:\", len(Ytest)"
   ]
  },
  {
   "cell_type": "code",
   "execution_count": null,
   "metadata": {
    "collapsed": true
   },
   "outputs": [],
   "source": []
  }
 ],
 "metadata": {
  "kernelspec": {
   "display_name": "Python 2",
   "language": "python",
   "name": "python2"
  },
  "language_info": {
   "codemirror_mode": {
    "name": "ipython",
    "version": 2
   },
   "file_extension": ".py",
   "mimetype": "text/x-python",
   "name": "python",
   "nbconvert_exporter": "python",
   "pygments_lexer": "ipython2",
   "version": "2.7.10"
  }
 },
 "nbformat": 4,
 "nbformat_minor": 2
}
