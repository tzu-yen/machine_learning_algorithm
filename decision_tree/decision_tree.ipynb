{
 "cells": [
  {
   "cell_type": "code",
   "execution_count": null,
   "metadata": {
    "collapsed": true
   },
   "outputs": [],
   "source": [
    "import numpy as np\n",
    "from util import get_data, get_xor, get_donut\n",
    "from datetime import datetime"
   ]
  },
  {
   "cell_type": "code",
   "execution_count": null,
   "metadata": {
    "collapsed": true
   },
   "outputs": [],
   "source": [
    "def entropy(y):\n",
    "    '''only for binary classification: y = {0, 1}'''\n",
    "    N = len(y)\n",
    "    s1 = (y==1).sum()\n",
    "    if s1 == 0 or s1 == N:\n",
    "        return 0\n",
    "    p1 = float(s1)/N\n",
    "    p0 = 1 - p1\n",
    "    return -p0*np.log2(p0)-p1*np.log2(p1)"
   ]
  },
  {
   "cell_type": "code",
   "execution_count": null,
   "metadata": {
    "collapsed": false
   },
   "outputs": [],
   "source": [
    "class TreeNode:\n",
    "    def __init__(self, depth=0, max_depth=None):\n",
    "        self.depth = depth\n",
    "        self.max_depth = max_depth\n",
    "        \n",
    "    def fit(self, X, Y):\n",
    "        if len(Y)==1 or len(set(Y))==1:\n",
    "            self.col, self.split = None, None\n",
    "            self.left, self.right = None, None\n",
    "            self.prediction = Y[0]\n",
    "        else:\n",
    "            cols = X.shape[1]\n",
    "            max_ig = 0\n",
    "            best_col, best_split = None, None\n",
    "            for col in range(cols):\n",
    "                ig, split = self.find_split(X, Y, col)\n",
    "                if ig > max_ig:\n",
    "                    max_ig = ig\n",
    "                    best_col, best_split = col, split\n",
    "            if max_ig == 0:\n",
    "                self.col, self.split = None, None\n",
    "                self.left, self.right = None, None\n",
    "                self.prediction = np.round(Y.mean())    #only works for y=0 or y=1\n",
    "            else:\n",
    "                self.col, self.split = best_col, best_split\n",
    "                if self.depth == self.max_depth:        \n",
    "                    # split the node into leaves\n",
    "                    self.left, self.right = None, None\n",
    "                    self.prediction = [\n",
    "                        np.round(Y[X[:,best_col] < self.split].mean()),\n",
    "                        np.round(Y[X[:,best_col] >= self.split].mean())]\n",
    "                else:                            \n",
    "                    #split and recursively add TreeNode \n",
    "                    left_idx = (X[:, best_col] < best_split)\n",
    "                    Xleft, Yleft = X[left_idx], Y[left_idx]\n",
    "                    self.left = TreeNode(self.depth+1, self.max_depth)\n",
    "                    self.left.fit(Xleft, Yleft)\n",
    "                    \n",
    "                    right_idx = (X[:, best_col]>=best_split)\n",
    "                    Xright, Yright = X[right_idx], Y[right_idx]\n",
    "                    self.right = TreeNode(self.depth+1, self.max_depth)\n",
    "                    self.right.fit(Xright, Yright)\n",
    "    \n",
    "    def find_split(self, X, Y, col):\n",
    "        x_values = X[:, col]\n",
    "        sort_idx = np.argsort(x_values)\n",
    "        x_values, y_values = x_values[sort_idx], Y[sort_idx]\n",
    "        boundaries = np.nonzero(y_values[:-1] != y_values[1:])[0]\n",
    "        best_split = None\n",
    "        max_ig = 0\n",
    "        for i in boundaries:\n",
    "            split = (x_values[i]+x_values[i+1]) / 2\n",
    "            ig = self.information_gain(x_values, y_values, split)\n",
    "            if ig > max_ig:\n",
    "                max_ig = ig\n",
    "                best_split = split\n",
    "        return max_ig, best_split\n",
    "    \n",
    "    def information_gain(self, x, y, split):\n",
    "        y0 = y[x<split]\n",
    "        y1 = y[x>=split]\n",
    "        N = len(y)\n",
    "        y0_length = len(y0)\n",
    "        if y0_length == 0 or y0_length == N:\n",
    "            return 0\n",
    "        p0 = float(y0_length) / N\n",
    "        p1 = 1 - p0\n",
    "        ig = entropy(y) - p0*entropy(y0) - p1*entropy(y1)\n",
    "        return ig\n",
    "            \n",
    "    def prediction_one(self, x):\n",
    "        if self.col is not None and self.split is not None:\n",
    "            feature = x[self.col]\n",
    "            if feature < self.split: #split into two\n",
    "                if self.left:\n",
    "                    p = self.left.prediction_one(x)\n",
    "                else:\n",
    "                    p = self.prediction[0]\n",
    "            else:\n",
    "                if self.right:\n",
    "                    p = self.right.prediction_one(x)\n",
    "                else:\n",
    "                    p = self.prediction[1]\n",
    "        else:\n",
    "            p = self.prediction\n",
    "        return p\n",
    "    \n",
    "    def predict(self, X):\n",
    "        N = len(X)\n",
    "        P = np.zeros(N)\n",
    "        for i in xrange(N):\n",
    "            P[i] = self.prediction_one(X[i])\n",
    "        return P\n",
    "                 "
   ]
  },
  {
   "cell_type": "code",
   "execution_count": null,
   "metadata": {
    "collapsed": false
   },
   "outputs": [],
   "source": [
    "class DecisionTree:\n",
    "    def __init__(self, max_depth=None):\n",
    "        self.max_depth = max_depth\n",
    "        \n",
    "    def fit(self, X, Y):\n",
    "        self.root = TreeNode(max_depth=self.max_depth)\n",
    "        self.root.fit(X, Y)\n",
    "        \n",
    "    def predict(self, X):\n",
    "        return self.root.predict(X)\n",
    "    \n",
    "    def score(self, X, Y):\n",
    "        P = self.predict(X)\n",
    "        return np.mean(P==Y)"
   ]
  },
  {
   "cell_type": "code",
   "execution_count": null,
   "metadata": {
    "collapsed": false
   },
   "outputs": [],
   "source": [
    "if __name__ == '__main__':\n",
    "    X, Y = get_data()\n",
    "    #X, Y = get_xor()\n",
    "    #X, Y = get_donut()\n",
    "    idx = np.logical_or(Y==0, Y==1)\n",
    "    X = X[idx]\n",
    "    Y = Y[idx]\n",
    "    M = np.concatenate((np.array([Y]).T, X), axis=1)\n",
    "    np.random.shuffle(M)\n",
    "    X = M[:,1:]\n",
    "    Y = M[:, 0]\n",
    "    Ntrain = len(Y)/2\n",
    "    Xtrain, Ytrain = X[:Ntrain], Y[:Ntrain]\n",
    "    Xtest, Ytest = X[Ntrain:], Y[Ntrain:]\n",
    "    model = DecisionTree()\n",
    "    t0 = datetime.now()\n",
    "    model.fit(Xtrain, Ytrain)\n",
    "    print 'Training Time:', (datetime.now()-t0)\n",
    "    \n",
    "    t0 = datetime.now()\n",
    "    print 'Train accuracy:', model.score(Xtrain, Ytrain)\n",
    "    print 'Time to compute train accuracy:', (datetime.now()-t0)\n",
    "    \n",
    "    t0 = datetime.now()\n",
    "    print 'Test accuracy:', model.score(Xtest, Ytest)\n",
    "    print 'Time to compute test accuracy:', (datetime.now()-t0)\n",
    "    "
   ]
  },
  {
   "cell_type": "code",
   "execution_count": null,
   "metadata": {
    "collapsed": true
   },
   "outputs": [],
   "source": []
  }
 ],
 "metadata": {
  "kernelspec": {
   "display_name": "Python 2",
   "language": "python",
   "name": "python2"
  },
  "language_info": {
   "codemirror_mode": {
    "name": "ipython",
    "version": 2
   },
   "file_extension": ".py",
   "mimetype": "text/x-python",
   "name": "python",
   "nbconvert_exporter": "python",
   "pygments_lexer": "ipython2",
   "version": "2.7.10"
  }
 },
 "nbformat": 4,
 "nbformat_minor": 2
}
