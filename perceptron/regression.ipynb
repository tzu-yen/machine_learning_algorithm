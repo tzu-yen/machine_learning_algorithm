{
 "cells": [
  {
   "cell_type": "code",
   "execution_count": 1,
   "metadata": {},
   "outputs": [],
   "source": [
    "import numpy as np\n",
    "import matplotlib.pyplot as plt\n",
    "from sklearn.neighbors import KNeighborsRegressor\n",
    "from sklearn.tree import DecisionTreeRegressor"
   ]
  },
  {
   "cell_type": "code",
   "execution_count": 2,
   "metadata": {
    "collapsed": true
   },
   "outputs": [],
   "source": [
    "N = 200\n",
    "X = np.linspace(0, 10, N).reshape(N,1) #sklearn requires matrix form\n",
    "Y = np.sin(X)\n",
    "\n",
    "Ntrain = 10\n",
    "idx = np.random.choice(N, Ntrain)\n",
    "Xtrain = X[idx]\n",
    "Ytrain = Y[idx]"
   ]
  },
  {
   "cell_type": "code",
   "execution_count": 3,
   "metadata": {},
   "outputs": [],
   "source": [
    "knn = KNeighborsRegressor(n_neighbors=3, weights='distance')\n",
    "knn.fit(Xtrain, Ytrain)\n",
    "Yknn = knn.predict(X)\n",
    "\n",
    "dt = DecisionTreeRegressor()\n",
    "dt.fit(Xtrain, Ytrain)\n",
    "Ydt = dt.predict(X)\n",
    "\n",
    "plt.scatter(Xtrain, Ytrain)\n",
    "plt.plot(X, Y)\n",
    "plt.plot(X, Yknn, label='KNN')\n",
    "plt.plot(X, Ydt, label='DT')\n",
    "plt.legend()\n",
    "plt.show()"
   ]
  },
  {
   "cell_type": "code",
   "execution_count": null,
   "metadata": {
    "collapsed": true
   },
   "outputs": [],
   "source": []
  }
 ],
 "metadata": {
  "kernelspec": {
   "display_name": "Python 2",
   "language": "python",
   "name": "python2"
  },
  "language_info": {
   "codemirror_mode": {
    "name": "ipython",
    "version": 2
   },
   "file_extension": ".py",
   "mimetype": "text/x-python",
   "name": "python",
   "nbconvert_exporter": "python",
   "pygments_lexer": "ipython2",
   "version": "2.7.13"
  }
 },
 "nbformat": 4,
 "nbformat_minor": 2
}
