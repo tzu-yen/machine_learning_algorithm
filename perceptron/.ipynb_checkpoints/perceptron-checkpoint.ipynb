{
 "cells": [
  {
   "cell_type": "code",
   "execution_count": null,
   "metadata": {
    "collapsed": false
   },
   "outputs": [],
   "source": [
    "import numpy as np\n",
    "import matplotlib.pyplot as plt\n",
    "from util import get_data as mnist\n",
    "from datetime import datetime"
   ]
  },
  {
   "cell_type": "code",
   "execution_count": null,
   "metadata": {
    "collapsed": true
   },
   "outputs": [],
   "source": [
    "def get_data():\n",
    "    w = np.array([-0.5, 0.5])\n",
    "    b = 0.1\n",
    "    X = np.random.random((300, 2))*2 - 1\n",
    "    Y = np.sign(X.dot(w)+b)\n",
    "    return X, Y"
   ]
  },
  {
   "cell_type": "code",
   "execution_count": null,
   "metadata": {
    "collapsed": true
   },
   "outputs": [],
   "source": [
    "def get_simple_xor():\n",
    "    X = np.array([[0,0], [0,1], [1,0], [1,1]])\n",
    "    Y = np.array([-1,1,1,-1])\n",
    "    return X, Y"
   ]
  },
  {
   "cell_type": "code",
   "execution_count": null,
   "metadata": {
    "collapsed": true
   },
   "outputs": [],
   "source": [
    "class Perceptron:\n",
    "    def fit(self, X, Y, learning_rate=0.1, epochs=1000):\n",
    "        N, D = X.shape\n",
    "        self.w = np.random.randn(D)\n",
    "        self.b = 0\n",
    "        \n",
    "        costs = []\n",
    "        for epoch in xrange(epochs):\n",
    "            Yhat = self.predict(X)\n",
    "            incorrect = np.nonzero(Y!=Yhat)[0]\n",
    "            if len(incorrect) == 0:\n",
    "                break\n",
    "                \n",
    "            i = np.random.choice(incorrect)\n",
    "            self.w += learning_rate*Y[i]*X[i]\n",
    "            self.b += learning_rate*Y[i]\n",
    "            \n",
    "            c = len(incorrect)/float(N)\n",
    "            costs.append(c)\n",
    "        print 'final w:', self.w, 'final b:', self.b, \"epoch:\", (epoch+1), \"/\", epochs\n",
    "        plt.plot(costs)\n",
    "        plt.show()\n",
    "        \n",
    "    def predict(self, X):\n",
    "        return np.sign(X.dot(self.w)+self.b)\n",
    "    \n",
    "    def score(self, X, Y):\n",
    "        P = self.predict(X)\n",
    "        return np.mean(Y==P)\n",
    "        "
   ]
  },
  {
   "cell_type": "code",
   "execution_count": null,
   "metadata": {
    "collapsed": false
   },
   "outputs": [],
   "source": [
    "if __name__ == '__main__':\n",
    "    X, Y = get_data()\n",
    "    plt.scatter(X[:,0], X[:,1], c=Y, s=100, alpha=0.5)\n",
    "    plt.show()\n",
    "    Ntrain = len(Y)/2\n",
    "    Xtrain, Ytrain = X[:Ntrain], Y[:Ntrain]\n",
    "    Xtest, Ytest = X[Ntrain:], Y[Ntrain:]\n",
    "    \n",
    "    model = Perceptron()\n",
    "    t0 = datetime.now()\n",
    "    model.fit(Xtrain, Ytrain)\n",
    "    print \"Training time:\", (datetime.now() - t0)\n",
    "    \n",
    "    t0 = datetime.now()\n",
    "    print \"Train accuracy:\", model.score(Xtrain, Ytrain)\n",
    "    print \"Time to compute train accuracy:\", (datetime.now()), \"Train size:\", len(Xtrain)\n",
    "    \n",
    "    t0 = datetime.now()\n",
    "    print \"Test accuracy:\", model.score(Xtest, Ytest)\n",
    "    print \"Time to compute test accuracy:\", (datetime.now()-t0), \"Test size:\", len(Xtest)"
   ]
  },
  {
   "cell_type": "code",
   "execution_count": null,
   "metadata": {
    "collapsed": false
   },
   "outputs": [],
   "source": [
    "if __name__ == '__main__':\n",
    "    X, Y = mnist()\n",
    "    idx = np.logical_or(Y==0, Y==1)\n",
    "    X = X[idx]\n",
    "    Y = Y[idx]\n",
    "    Y[Y==0] = -1 #for perceptron, y={1,-1}\n",
    "    \n",
    "    model = Perceptron()\n",
    "    t0 = datetime.now()\n",
    "    model.fit(X, Y, learning_rate=10e-3)\n",
    "    print 'MNIST training accuracy:', model.score(X, Y)\n",
    "    \n",
    "    print ''\n",
    "    print 'XOR resutls'\n",
    "    X, Y = get_simple_xor()\n",
    "    model.fit(X, Y)\n",
    "    print 'XOR trainning accuracy',model.score(X, Y)"
   ]
  },
  {
   "cell_type": "code",
   "execution_count": null,
   "metadata": {
    "collapsed": true
   },
   "outputs": [],
   "source": []
  }
 ],
 "metadata": {
  "kernelspec": {
   "display_name": "Python 2",
   "language": "python",
   "name": "python2"
  },
  "language_info": {
   "codemirror_mode": {
    "name": "ipython",
    "version": 2
   },
   "file_extension": ".py",
   "mimetype": "text/x-python",
   "name": "python",
   "nbconvert_exporter": "python",
   "pygments_lexer": "ipython2",
   "version": "2.7.10"
  }
 },
 "nbformat": 4,
 "nbformat_minor": 2
}
