{
 "cells": [
  {
   "cell_type": "code",
   "execution_count": null,
   "metadata": {
    "collapsed": true
   },
   "outputs": [],
   "source": [
    "#%matplotlib inline\n",
    "import numpy as np\n",
    "import matplotlib.pyplot as plt"
   ]
  },
  {
   "cell_type": "code",
   "execution_count": null,
   "metadata": {},
   "outputs": [],
   "source": [
    "N = 50\n",
    "X = np.linspace(0,10,N)\n",
    "Y = 0.5*X + np.random.random(N)\n",
    "Y[-1] += 30\n",
    "Y[-2] += 30\n"
   ]
  },
  {
   "cell_type": "code",
   "execution_count": null,
   "metadata": {
    "collapsed": true
   },
   "outputs": [],
   "source": [
    "X = np.vstack([np.ones(N), X]).T"
   ]
  },
  {
   "cell_type": "code",
   "execution_count": null,
   "metadata": {},
   "outputs": [],
   "source": [
    "w_ml = np.linalg.solve(X.T.dot(X), X.T.dot(Y)) #Regular Linear Regression\n",
    "Yhat_ml = X.dot(w_ml)\n",
    "plt.scatter(X[:,1], Y)\n",
    "plt.plot(X[:,1], Yhat_ml, label=\"ML\")\n",
    "\n",
    "\n",
    "l2 = 1000.0\n",
    "w_map = np.linalg.solve(l2*np.eye(2)+X.T.dot(X), X.T.dot(Y)) #Ridge Linear Regression (MAP)\n",
    "Yhat_map = X.dot(w_map)\n",
    "plt.plot(X[:,1], Yhat_map, label='MAP')\n",
    "plt.legend()\n",
    "plt.show()"
   ]
  },
  {
   "cell_type": "code",
   "execution_count": null,
   "metadata": {
    "collapsed": true
   },
   "outputs": [],
   "source": []
  }
 ],
 "metadata": {
  "kernelspec": {
   "display_name": "Python 2",
   "language": "python",
   "name": "python2"
  },
  "language_info": {
   "codemirror_mode": {
    "name": "ipython",
    "version": 2
   },
   "file_extension": ".py",
   "mimetype": "text/x-python",
   "name": "python",
   "nbconvert_exporter": "python",
   "pygments_lexer": "ipython2",
   "version": "2.7.13"
  }
 },
 "nbformat": 4,
 "nbformat_minor": 1
}
