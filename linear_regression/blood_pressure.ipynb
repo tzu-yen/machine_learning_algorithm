{
 "cells": [
  {
   "cell_type": "code",
   "execution_count": null,
   "metadata": {
    "collapsed": true
   },
   "outputs": [],
   "source": [
    "%matplotlib inline\n",
    "\n",
    "import numpy as np\n",
    "import matplotlib.pyplot as plt\n",
    "import pandas as pd"
   ]
  },
  {
   "cell_type": "code",
   "execution_count": null,
   "metadata": {
    "collapsed": false
   },
   "outputs": [],
   "source": [
    "df = pd.read_excel('mlr02.xls')\n",
    "X = df.as_matrix()\n",
    "print X"
   ]
  },
  {
   "cell_type": "code",
   "execution_count": null,
   "metadata": {
    "collapsed": false
   },
   "outputs": [],
   "source": [
    "plt.scatter(X[:,1], X[:,0])\n",
    "plt.show()\n",
    "plt.scatter(X[:,2], X[:,0])\n",
    "plt.show()"
   ]
  },
  {
   "cell_type": "code",
   "execution_count": null,
   "metadata": {
    "collapsed": false
   },
   "outputs": [],
   "source": [
    "df['ones'] = 1\n",
    "Y = df['X1']\n",
    "X = df[['X2', 'X3', 'ones']]\n",
    "X2only = df[['X2', 'ones']]\n",
    "X3only = df[['X3', 'ones']]\n"
   ]
  },
  {
   "cell_type": "code",
   "execution_count": null,
   "metadata": {
    "collapsed": true
   },
   "outputs": [],
   "source": [
    "def run_regression(X, Y):\n",
    "    '''\n",
    "        A = X.T.dot(X)\n",
    "        b = X.T.dot(Y)\n",
    "    '''\n",
    "    w = np.linalg.solve(X.T.dot(X), X.T.dot(Y))\n",
    "    Yhat = X.dot(w)\n",
    "    return Yhat"
   ]
  },
  {
   "cell_type": "code",
   "execution_count": null,
   "metadata": {
    "collapsed": true
   },
   "outputs": [],
   "source": [
    "def get_r_square(y, yhat):\n",
    "    d1 = y-yhat\n",
    "    d2 = y-y.mean()\n",
    "    ssr = np.dot(d1, d1)\n",
    "    sst = np.dot(d2, d2)\n",
    "    return 1 - ssr/sst"
   ]
  },
  {
   "cell_type": "code",
   "execution_count": null,
   "metadata": {
    "collapsed": false
   },
   "outputs": [],
   "source": [
    "Yhat2 = run_regression(X2only, Y)\n",
    "print get_r_square(Y, Yhat2)\n",
    "Yhat3 = run_regression(X3only, Y)\n",
    "print get_r_square(Y, Yhat3)\n",
    "Yhat = run_regression(X, Y)\n",
    "print get_r_square(Yhat, Y)"
   ]
  },
  {
   "cell_type": "code",
   "execution_count": null,
   "metadata": {
    "collapsed": true
   },
   "outputs": [],
   "source": []
  }
 ],
 "metadata": {
  "kernelspec": {
   "display_name": "Python 2",
   "language": "python",
   "name": "python2"
  },
  "language_info": {
   "codemirror_mode": {
    "name": "ipython",
    "version": 2
   },
   "file_extension": ".py",
   "mimetype": "text/x-python",
   "name": "python",
   "nbconvert_exporter": "python",
   "pygments_lexer": "ipython2",
   "version": "2.7.10"
  }
 },
 "nbformat": 4,
 "nbformat_minor": 0
}
