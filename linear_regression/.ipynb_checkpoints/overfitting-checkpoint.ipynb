{
 "cells": [
  {
   "cell_type": "code",
   "execution_count": 1,
   "metadata": {
    "collapsed": false
   },
   "outputs": [],
   "source": [
    "# %matplotlib inline\n",
    "\n",
    "import numpy as np\n",
    "import matplotlib.pyplot as plt"
   ]
  },
  {
   "cell_type": "code",
   "execution_count": 2,
   "metadata": {
    "collapsed": false
   },
   "outputs": [],
   "source": [
    "N = 100\n",
    "X = np.linspace(0, 6*np.pi, N)\n",
    "Y = np.sin(X)\n",
    "plt.plot(X, Y)\n",
    "plt.show()"
   ]
  },
  {
   "cell_type": "code",
   "execution_count": 3,
   "metadata": {
    "collapsed": true
   },
   "outputs": [],
   "source": [
    "def make_poly(X, deg):\n",
    "    n = len(X)\n",
    "    data = [np.ones(n)]\n",
    "    for d in range(0, deg):\n",
    "        data.append(X**(d+1))\n",
    "    return np.vstack(data).T"
   ]
  },
  {
   "cell_type": "code",
   "execution_count": 4,
   "metadata": {
    "collapsed": true
   },
   "outputs": [],
   "source": [
    "def fit(X, Y):\n",
    "    return np.linalg.solve(X.T.dot(X), X.T.dot(Y))"
   ]
  },
  {
   "cell_type": "code",
   "execution_count": 8,
   "metadata": {
    "collapsed": true
   },
   "outputs": [],
   "source": [
    "def fit_and_display(X, Y, sample, deg):\n",
    "    N = len(X)\n",
    "    train_idx = np.random.choice(N, sample)\n",
    "    Xtrain = X[train_idx]\n",
    "    Ytrain = Y[train_idx]\n",
    "    \n",
    "    plt.scatter(Xtrain, Ytrain)\n",
    "    plt.show()\n",
    "    \n",
    "    Xtrain_poly = make_poly(Xtrain, deg)\n",
    "    w = fit(Xtrain_poly, Ytrain)\n",
    "    \n",
    "    X_poly = make_poly(X, deg)\n",
    "    Y_hat = X_poly.dot(w)\n",
    "    plt.plot(X, Y)\n",
    "    plt.plot(X, Y_hat)\n",
    "    plt.scatter(Xtrain, Ytrain)\n",
    "    plt.title('deg={}'.format(deg))\n",
    "    plt.show()"
   ]
  },
  {
   "cell_type": "code",
   "execution_count": 9,
   "metadata": {
    "collapsed": false
   },
   "outputs": [],
   "source": [
    "for deg in (5, 6, 7, 8, 9):\n",
    "    fit_and_display(X, Y, 10, deg)"
   ]
  },
  {
   "cell_type": "code",
   "execution_count": 10,
   "metadata": {
    "collapsed": true
   },
   "outputs": [],
   "source": [
    "def get_mse(Y, Y_hat):\n",
    "    d = Y - Y_hat\n",
    "    return d.T.dot(d)/len(d)"
   ]
  },
  {
   "cell_type": "code",
   "execution_count": 11,
   "metadata": {
    "collapsed": true
   },
   "outputs": [],
   "source": [
    "def plot_train_test_curves(X, Y, sample=20, max_deg=20):\n",
    "    N = len(X)\n",
    "    train_idx = np.random.choice(N, sample)\n",
    "    Xtrain = X[train_idx]\n",
    "    Ytrain = Y[train_idx]\n",
    "    test_idx = [idx for idx in range(N) if idx not in train_idx]\n",
    "    Xtest = X[test_idx]\n",
    "    Ytest = Y[test_idx]\n",
    "    \n",
    "    mse_trains, mse_tests = [], []\n",
    "    for deg in range(1, max_deg+1):\n",
    "        Xtrain_poly = make_poly(Xtrain, deg)\n",
    "        w = fit(Xtrain_poly, Ytrain)\n",
    "        Yhat_train = Xtrain_poly.dot(w)\n",
    "        mse_train = get_mse(Ytrain, Yhat_train)\n",
    "        \n",
    "        Xtest_poly = make_poly(Xtest, deg)\n",
    "        Yhat_test = Xtest_poly.dot(w)\n",
    "        mse_test = get_mse(Ytest, Yhat_test)\n",
    "        \n",
    "        mse_trains.append(mse_train)\n",
    "        mse_tests.append(mse_test)\n",
    "    \n",
    "    plt.plot(mse_trains, label='train_mse')\n",
    "    plt.plot(mse_tests, label='test_mse')\n",
    "    plt.legend()\n",
    "    plt.show()\n",
    "        "
   ]
  },
  {
   "cell_type": "code",
   "execution_count": 12,
   "metadata": {
    "collapsed": true
   },
   "outputs": [],
   "source": [
    "plot_train_test_curves(X, Y)"
   ]
  },
  {
   "cell_type": "code",
   "execution_count": null,
   "metadata": {
    "collapsed": true
   },
   "outputs": [],
   "source": []
  }
 ],
 "metadata": {
  "kernelspec": {
   "display_name": "Python 2",
   "language": "python",
   "name": "python2"
  },
  "language_info": {
   "codemirror_mode": {
    "name": "ipython",
    "version": 2
   },
   "file_extension": ".py",
   "mimetype": "text/x-python",
   "name": "python",
   "nbconvert_exporter": "python",
   "pygments_lexer": "ipython2",
   "version": "2.7.10"
  }
 },
 "nbformat": 4,
 "nbformat_minor": 0
}
