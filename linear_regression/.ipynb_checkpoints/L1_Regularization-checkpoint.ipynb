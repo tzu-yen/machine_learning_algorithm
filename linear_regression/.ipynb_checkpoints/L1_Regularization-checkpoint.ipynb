{
 "cells": [
  {
   "cell_type": "code",
   "execution_count": 4,
   "metadata": {
    "collapsed": false
   },
   "outputs": [],
   "source": [
    "# %matplotlib inline\n",
    "\n",
    "import numpy as np\n",
    "import matplotlib.pyplot as plt\n",
    "\n",
    "N=50\n",
    "D=50\n",
    "\n",
    "X = np.random.random((N,D))*10 - 5 #center around 0 with var 5\n",
    "true_w = np.array([1,0.5,-0.5]+[0]*(D-3))\n",
    "Y = X.dot(true_w) + np.random.randn(N)*0.5"
   ]
  },
  {
   "cell_type": "code",
   "execution_count": 2,
   "metadata": {
    "collapsed": false
   },
   "outputs": [],
   "source": [
    "costs=[]\n",
    "w = np.random.randn(D)/np.sqrt(D) #drawed from a normal distribution with var = 1/D [std=1/D^2]\n",
    "learning_rate = 0.001\n",
    "l1 = 10\n",
    "epoch = 500\n",
    "\n",
    "for t in range(epoch):\n",
    "    Yhat = X.dot(w)\n",
    "    delta = Yhat-Y\n",
    "    w = w - learning_rate * (X.T.dot(delta)+l1*np.sign(w))\n",
    "    \n",
    "    mse= delta.dot(delta)/N\n",
    "    costs.append(mse)\n",
    "\n",
    "plt.plot(costs)\n",
    "plt.show()"
   ]
  },
  {
   "cell_type": "code",
   "execution_count": 3,
   "metadata": {
    "collapsed": true
   },
   "outputs": [],
   "source": [
    "plt.plot(true_w, label='true_w')\n",
    "plt.plot(w, label='w_map')\n",
    "plt.legend()\n",
    "plt.show()"
   ]
  },
  {
   "cell_type": "code",
   "execution_count": null,
   "metadata": {
    "collapsed": true
   },
   "outputs": [],
   "source": []
  }
 ],
 "metadata": {
  "kernelspec": {
   "display_name": "Python 2",
   "language": "python",
   "name": "python2"
  },
  "language_info": {
   "codemirror_mode": {
    "name": "ipython",
    "version": 2
   },
   "file_extension": ".py",
   "mimetype": "text/x-python",
   "name": "python",
   "nbconvert_exporter": "python",
   "pygments_lexer": "ipython2",
   "version": "2.7.10"
  }
 },
 "nbformat": 4,
 "nbformat_minor": 0
}
