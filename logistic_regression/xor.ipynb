{
 "cells": [
  {
   "cell_type": "code",
   "execution_count": 1,
   "metadata": {
    "collapsed": true
   },
   "outputs": [],
   "source": [
    "%matplotlib inline\n",
    "\n",
    "import numpy as np\n",
    "import matplotlib.pyplot as plt"
   ]
  },
  {
   "cell_type": "code",
   "execution_count": 2,
   "metadata": {
    "collapsed": true
   },
   "outputs": [],
   "source": [
    "def sigmoid(z):\n",
    "    return 1.0 / (1.0+np.exp(-z))"
   ]
  },
  {
   "cell_type": "code",
   "execution_count": 3,
   "metadata": {
    "collapsed": true
   },
   "outputs": [],
   "source": [
    "def cross_entropy(T, Y):\n",
    "    return -(T*np.log(Y)+(1-T)*np.log(1-Y)).mean()"
   ]
  },
  {
   "cell_type": "code",
   "execution_count": 4,
   "metadata": {
    "collapsed": true
   },
   "outputs": [],
   "source": [
    "N, D = 4, 2\n",
    "X = np.array([[0,0], [0,1], [1,0], [1,1]])\n",
    "T = np.array([0,1,1,0]).T\n",
    "ones = np.array([[1]*N]).T"
   ]
  },
  {
   "cell_type": "code",
   "execution_count": 5,
   "metadata": {
    "collapsed": false
   },
   "outputs": [
    {
     "data": {
      "image/png": "[encoded data removed]",
      "text/plain": [
       "<matplotlib.figure.Figure at 0x5dde4d0>"
      ]
     },
     "metadata": {},
     "output_type": "display_data"
    }
   ],
   "source": [
    "plt.scatter(X[:,0], X[:,1], c=T)\n",
    "plt.show()"
   ]
  },
  {
   "cell_type": "code",
   "execution_count": 6,
   "metadata": {
    "collapsed": false
   },
   "outputs": [],
   "source": [
    "xy = (X[:,0]*X[:,1]).reshape(N,1)\n",
    "Xb = np.concatenate([ones, xy, X], axis=1)"
   ]
  },
  {
   "cell_type": "code",
   "execution_count": 7,
   "metadata": {
    "collapsed": false
   },
   "outputs": [
    {
     "name": "stdout",
     "output_type": "stream",
     "text": [
      "0.782847355522\n",
      "0.775183451058\n",
      "0.768172429033\n",
      "0.761658214754\n",
      "0.755527379511\n",
      "0.749697443943\n",
      "0.744108303299\n",
      "0.738715994259\n",
      "0.733488187773\n",
      "0.728400940405\n",
      "0.723436357054\n",
      "0.718580910946\n",
      "0.713824236488\n",
      "0.709158261851\n",
      "0.704576585484\n",
      "0.700074027747\n",
      "0.695646308259\n",
      "0.691289813515\n",
      "0.687001429333\n",
      "0.682778419871\n",
      "0.678618340107\n",
      "0.674518972365\n",
      "0.670478280125\n",
      "0.666494374253\n",
      "0.662565488166\n",
      "0.658689959417\n",
      "0.654866215904\n",
      "0.651092765407\n",
      "0.647368187512\n",
      "0.643691127284\n",
      "0.640060290174\n",
      "0.636474437854\n",
      "0.632932384702\n",
      "0.629432994789\n",
      "0.625975179224\n",
      "0.622557893776\n",
      "0.619180136711\n",
      "0.615840946791\n",
      "0.612539401408\n",
      "0.609274614829\n",
      "0.606045736535\n",
      "0.602851949644\n",
      "0.599692469402\n",
      "0.596566541746\n",
      "0.59347344193\n",
      "0.590412473203\n",
      "0.587382965548\n",
      "0.584384274475\n",
      "0.58141577986\n",
      "0.578476884835\n",
      "final w: [ 0.4076025  -1.2814831  -0.20927023  0.13357165]\n",
      "final classification rate: 0.75\n"
     ]
    }
   ],
   "source": [
    "w = np.random.randn(D+2)\n",
    "z = Xb.dot(w)\n",
    "Y = sigmoid(z)\n",
    "\n",
    "learning_rate = 0.001\n",
    "errors = []\n",
    "for i in xrange(5000):\n",
    "    e = cross_entropy(T, Y)\n",
    "    errors.append(e)\n",
    "    if i % 100 == 0:\n",
    "        print e\n",
    "    \n",
    "    w += learning_rate * (Xb.T.dot(T-Y) - 0.01*w)\n",
    "    Y = sigmoid(Xb.dot(w))\n",
    "\n",
    "\n",
    "print 'final w:', w\n",
    "print 'final classification rate:', 1 - np.abs(T-np.round(Y)).sum() / N"
   ]
  },
  {
   "cell_type": "code",
   "execution_count": null,
   "metadata": {
    "collapsed": true
   },
   "outputs": [],
   "source": []
  }
 ],
 "metadata": {
  "kernelspec": {
   "display_name": "Python 2",
   "language": "python",
   "name": "python2"
  },
  "language_info": {
   "codemirror_mode": {
    "name": "ipython",
    "version": 2
   },
   "file_extension": ".py",
   "mimetype": "text/x-python",
   "name": "python",
   "nbconvert_exporter": "python",
   "pygments_lexer": "ipython2",
   "version": "2.7.10"
  }
 },
 "nbformat": 4,
 "nbformat_minor": 0
}
