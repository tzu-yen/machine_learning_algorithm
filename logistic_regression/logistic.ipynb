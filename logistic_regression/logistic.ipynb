{
 "cells": [
  {
   "cell_type": "code",
   "execution_count": null,
   "metadata": {},
   "outputs": [],
   "source": [
    "import numpy as np\n",
    "import matplotlib.pyplot as plt\n",
    "N = 100\n",
    "D = 2\n",
    "\n",
    "X = np.random.randn(N,D) # mean=0, var=1"
   ]
  },
  {
   "cell_type": "code",
   "execution_count": null,
   "metadata": {},
   "outputs": [],
   "source": [
    "def sigmoid(z):\n",
    "    return 1.0 / (1.0 + np.exp(-z))"
   ]
  },
  {
   "cell_type": "code",
   "execution_count": null,
   "metadata": {
    "collapsed": true
   },
   "outputs": [],
   "source": [
    "def cross_entropy(T, Y):\n",
    "    '''\n",
    "        E = - TlogY - (1-T)log(1-Y)\n",
    "    '''\n",
    "    E = 0\n",
    "    for i in xrange(N):\n",
    "        if T[i]==1:\n",
    "            E -= np.log(Y[i])\n",
    "        else:\n",
    "            E -= np.log(1-Y[i])\n",
    "    return E"
   ]
  },
  {
   "cell_type": "code",
   "execution_count": null,
   "metadata": {
    "collapsed": true
   },
   "outputs": [],
   "source": [
    "X[:50, :] = X[:50, :] - 2*np.ones((50, D)) # first 50 data center at (-2, -2)\n",
    "X[50:, :] = X[50:, :] + 2*np.ones((50, D)) #  last 50 center at (2, 2)\n",
    "\n",
    "T = np.array([0]*50+[1]*50) #labels, first 50 are 0, last 50 are 1\n",
    "\n",
    "ones = np.array([[1]*N]).T\n",
    "Xb = np.concatenate((ones, X), axis=1)\n",
    "w = np.random.randn(D+1)\n",
    "z = Xb.dot(w)\n",
    "Y = sigmoid(z)"
   ]
  },
  {
   "cell_type": "code",
   "execution_count": null,
   "metadata": {},
   "outputs": [],
   "source": [
    "learning_rate = 0.1\n",
    "l2 = 0.1\n",
    "for i in xrange(100):\n",
    "    if i%10 == 0:\n",
    "        print cross_entropy(T, Y)\n",
    "    w += learning_rate * (Xb.T.dot(T-Y) - l2*w)\n",
    "    Y = sigmoid(Xb.dot(w))\n",
    "print w"
   ]
  },
  {
   "cell_type": "code",
   "execution_count": null,
   "metadata": {},
   "outputs": [],
   "source": [
    "def closed_form():\n",
    "    #closed form solution\n",
    "    w = np.array([0, 4, 4])\n",
    "    z = Xb.dot(w)\n",
    "    Y = sigmoid(z)\n",
    "    print cross_entropy(T,Y)"
   ]
  },
  {
   "cell_type": "code",
   "execution_count": null,
   "metadata": {},
   "outputs": [],
   "source": [
    "plt.scatter(X[:,0], X[:,1], c=T, s=100, alpha=0.5)\n",
    "\n",
    "x_axis = np.linspace(-6,6,100)\n",
    "y_axis = -x_axis\n",
    "plt.plot(x_axis, y_axis)\n",
    "plt.show()"
   ]
  },
  {
   "cell_type": "code",
   "execution_count": null,
   "metadata": {
    "collapsed": true
   },
   "outputs": [],
   "source": []
  }
 ],
 "metadata": {
  "kernelspec": {
   "display_name": "Python 2",
   "language": "python",
   "name": "python2"
  },
  "language_info": {
   "codemirror_mode": {
    "name": "ipython",
    "version": 2
   },
   "file_extension": ".py",
   "mimetype": "text/x-python",
   "name": "python",
   "nbconvert_exporter": "python",
   "pygments_lexer": "ipython2",
   "version": "2.7.13"
  }
 },
 "nbformat": 4,
 "nbformat_minor": 1
}
