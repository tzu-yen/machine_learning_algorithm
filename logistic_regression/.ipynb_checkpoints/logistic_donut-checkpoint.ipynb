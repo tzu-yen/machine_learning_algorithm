{
 "cells": [
  {
   "cell_type": "code",
   "execution_count": null,
   "metadata": {
    "collapsed": true
   },
   "outputs": [],
   "source": [
    "%matplotlib inline\n",
    "\n",
    "import numpy as np\n",
    "import matplotlib.pyplot as plt"
   ]
  },
  {
   "cell_type": "code",
   "execution_count": null,
   "metadata": {
    "collapsed": true
   },
   "outputs": [],
   "source": [
    "def sigmoid(z):\n",
    "    return 1.0 / (1.0 + np.exp(-z))"
   ]
  },
  {
   "cell_type": "code",
   "execution_count": null,
   "metadata": {
    "collapsed": true
   },
   "outputs": [],
   "source": [
    "def cross_entropy(T, Y):\n",
    "    cost = -np.mean(T*np.log(Y)+(1-T)*np.log(1-Y))\n",
    "    return cost"
   ]
  },
  {
   "cell_type": "code",
   "execution_count": null,
   "metadata": {
    "collapsed": true
   },
   "outputs": [],
   "source": [
    "N = 1000\n",
    "D = 2\n",
    "R_inner = 5\n",
    "R_outer = 10\n",
    "\n",
    "R1 = np.random.randn(N/2) + R_inner\n",
    "theta = 2*np.pi*np.random.random(N/2)\n",
    "X_inner = np.concatenate([[R1*np.cos(theta)], [R1*np.sin(theta)]]).T\n",
    "\n",
    "R2 = np.random.randn(N/2) + R_outer\n",
    "theta = 2*np.pi*np.random.random(N/2)\n",
    "X_outer = np.concatenate([[R2*np.cos(theta)], [R2*np.sin(theta)]]).T\n",
    "\n",
    "X = np.concatenate([X_inner, X_outer])\n",
    "T = np.array([0]*(N/2)+[1]*(N/2))"
   ]
  },
  {
   "cell_type": "code",
   "execution_count": null,
   "metadata": {
    "collapsed": false
   },
   "outputs": [],
   "source": [
    "plt.scatter(X[:,0], X[:,1], c=T)\n",
    "plt.show()"
   ]
  },
  {
   "cell_type": "code",
   "execution_count": null,
   "metadata": {
    "collapsed": false
   },
   "outputs": [],
   "source": [
    "ones = np.array([[1.0]*N]).T\n",
    "r = np.zeros((N,1))\n",
    "for i in xrange(N):\n",
    "    r[i] = np.sqrt(X[i,:].dot(X[i,:]))\n",
    "Xb = np.concatenate([ones, r, X], axis=1)\n",
    "w = np.random.randn(D+2)\n",
    "z = Xb.dot(w)\n",
    "Y = sigmoid(z)\n",
    "learning_rate = 0.0001\n",
    "errors = []\n",
    "for i in xrange(5000):\n",
    "    e = cross_entropy(T, Y)\n",
    "    errors.append(e)\n",
    "    if i % 100 == 0:\n",
    "        print e\n",
    "    \n",
    "    w += learning_rate * (Xb.T.dot(T-Y) - 0.01*w)\n",
    "    Y = sigmoid(Xb.dot(w))\n",
    "\n",
    "\n",
    "print 'final w:', w\n",
    "print 'final classification rate:', 1 - np.abs(T-np.round(Y)).sum() / N\n",
    "\n"
   ]
  },
  {
   "cell_type": "code",
   "execution_count": null,
   "metadata": {
    "collapsed": false
   },
   "outputs": [],
   "source": [
    "plt.plot(errors)\n",
    "plt.title(\"Cross entropy\")\n",
    "plt.show()"
   ]
  }
 ],
 "metadata": {
  "kernelspec": {
   "display_name": "Python 2",
   "language": "python",
   "name": "python2"
  },
  "language_info": {
   "codemirror_mode": {
    "name": "ipython",
    "version": 2
   },
   "file_extension": ".py",
   "mimetype": "text/x-python",
   "name": "python",
   "nbconvert_exporter": "python",
   "pygments_lexer": "ipython2",
   "version": "2.7.10"
  }
 },
 "nbformat": 4,
 "nbformat_minor": 0
}
