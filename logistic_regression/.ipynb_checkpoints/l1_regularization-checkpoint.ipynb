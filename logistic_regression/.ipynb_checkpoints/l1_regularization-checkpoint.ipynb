{
 "cells": [
  {
   "cell_type": "code",
   "execution_count": 1,
   "metadata": {
    "collapsed": true
   },
   "outputs": [],
   "source": [
    "import numpy as np\n",
    "import matplotlib.pyplot as plt"
   ]
  },
  {
   "cell_type": "code",
   "execution_count": 2,
   "metadata": {
    "collapsed": true
   },
   "outputs": [],
   "source": [
    "def sigmoid(z):\n",
    "    return 1.0 / (1.0 + np.exp(-z))"
   ]
  },
  {
   "cell_type": "code",
   "execution_count": 3,
   "metadata": {
    "collapsed": true
   },
   "outputs": [],
   "source": [
    "N, D = 50, 50\n",
    "X = np.random.random((N,D))*10 - 5 #uniformly distributed between [-5, 5]\n",
    "true_w = np.array([1, 0.5, -0.5] + [0]*(D-3)) #only the first three matter\n",
    "Y = np.round(sigmoid(X.dot(true_w) + np.random.randn(N)*0.5))\n",
    "\n",
    "costs = []\n",
    "w = np.random.randn(D) / np.sqrt(D)\n",
    "learning_rate = 0.001\n",
    "l1 = 10.0"
   ]
  },
  {
   "cell_type": "code",
   "execution_count": 4,
   "metadata": {
    "collapsed": false
   },
   "outputs": [],
   "source": [
    "for t in xrange(5000):\n",
    "    Yhat = sigmoid(X.dot(w))\n",
    "    delta = Yhat - Y\n",
    "    w = w - learning_rate * (X.T.dot(delta) + l1*np.sign(w))\n",
    "    cost = -np.mean(Y*np.log(Yhat)+(1-Y)*np.log(1-Yhat))\n",
    "    costs.append(cost)\n",
    "plt.plot(costs)\n",
    "plt.show()\n",
    "\n",
    "plt.plot(true_w, label='true_w')\n",
    "plt.plot(w, label='w_map')\n",
    "plt.legend()\n",
    "plt.show()"
   ]
  },
  {
   "cell_type": "code",
   "execution_count": null,
   "metadata": {
    "collapsed": true
   },
   "outputs": [],
   "source": []
  }
 ],
 "metadata": {
  "kernelspec": {
   "display_name": "Python 2",
   "language": "python",
   "name": "python2"
  },
  "language_info": {
   "codemirror_mode": {
    "name": "ipython",
    "version": 2
   },
   "file_extension": ".py",
   "mimetype": "text/x-python",
   "name": "python",
   "nbconvert_exporter": "python",
   "pygments_lexer": "ipython2",
   "version": "2.7.10"
  }
 },
 "nbformat": 4,
 "nbformat_minor": 0
}
