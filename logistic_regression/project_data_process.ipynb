{
 "cells": [
  {
   "cell_type": "code",
   "execution_count": 1,
   "metadata": {
    "collapsed": true
   },
   "outputs": [],
   "source": [
    "import numpy as np\n",
    "import pandas as pd"
   ]
  },
  {
   "cell_type": "code",
   "execution_count": 4,
   "metadata": {
    "collapsed": false
   },
   "outputs": [],
   "source": [
    "def get_data():\n",
    "    df = pd.read_csv('./data/ecommerce_data.csv')\n",
    "    data = df.as_matrix()\n",
    "    X = data[:,:-1]\n",
    "    Y = data[:,-1]\n",
    "    \n",
    "    #normalization on col1 and col2\n",
    "    X[:, 1] = (X[:,1] - X[:,1].mean())/X[:,1].std()\n",
    "    X[:, 2] = (X[:,2] - X[:,2].mean())/X[:,2].std()\n",
    "    \n",
    "    N, D = X.shape\n",
    "    X2 = np.zeros((N, D+3)) #four categories \n",
    "    X2[:, 0:(D-1)] = X[:, 0:(D-1)]\n",
    "    \n",
    "    #method1 to do one-hop\n",
    "    #for n in xrange(N):\n",
    "    #    t = int(X[n, (D-1)])\n",
    "    #    X2[n, D-1+t] = 1\n",
    "        \n",
    "    #method2\n",
    "    Z = np.zeros((N, 4))\n",
    "    Z[np.arange(N), X[:,D-1].astype(np.int32)] = 1\n",
    "    X2[:, -4:] = Z\n",
    "    return X2, Y\n",
    "        "
   ]
  },
  {
   "cell_type": "code",
   "execution_count": 3,
   "metadata": {
    "collapsed": true
   },
   "outputs": [],
   "source": [
    "def get_binary_data():\n",
    "    X, Y = get_data()\n",
    "    X2 = X[Y<=1]\n",
    "    Y2 = Y[Y<=1]\n",
    "    return X2, Y2"
   ]
  },
  {
   "cell_type": "code",
   "execution_count": null,
   "metadata": {
    "collapsed": true
   },
   "outputs": [],
   "source": []
  }
 ],
 "metadata": {
  "kernelspec": {
   "display_name": "Python 2",
   "language": "python",
   "name": "python2"
  },
  "language_info": {
   "codemirror_mode": {
    "name": "ipython",
    "version": 2
   },
   "file_extension": ".py",
   "mimetype": "text/x-python",
   "name": "python",
   "nbconvert_exporter": "python",
   "pygments_lexer": "ipython2",
   "version": "2.7.10"
  }
 },
 "nbformat": 4,
 "nbformat_minor": 0
}
