{
 "cells": [
  {
   "cell_type": "code",
   "execution_count": 1,
   "metadata": {
    "collapsed": true
   },
   "outputs": [],
   "source": [
    "import numpy as np\n",
    "from scipy import stats"
   ]
  },
  {
   "cell_type": "code",
   "execution_count": 3,
   "metadata": {
    "collapsed": false
   },
   "outputs": [
    {
     "name": "stdout",
     "output_type": "stream",
     "text": [
      "t:\t5.88569333807 p:\t1.4254678262e-05\n",
      "t2:\t5.88569333807 p2:\t1.42546782619e-05\n"
     ]
    }
   ],
   "source": [
    "N = 10\n",
    "a = np.random.randn(N) + 2\n",
    "b = np.random.randn(N)\n",
    "\n",
    "var_a = a.var(ddof=1) #unbiased\n",
    "var_b = b.var(ddof=1)\n",
    "s = np.sqrt((var_a + var_b) / 2.0)\n",
    "t = (a.mean() - b.mean()) / (s * np.sqrt(2.0/N))\n",
    "df = 2*N -2 \n",
    "p = 1 - stats.t.cdf(t, df=df)\n",
    "print \"t:\\t\", t, \"p:\\t\", 2*p\n",
    "\n",
    "t2, p2 = stats.ttest_ind(a, b)\n",
    "print \"t2:\\t\", t, \"p2:\\t\", p2"
   ]
  },
  {
   "cell_type": "code",
   "execution_count": null,
   "metadata": {
    "collapsed": true
   },
   "outputs": [],
   "source": []
  }
 ],
 "metadata": {
  "kernelspec": {
   "display_name": "Python 2",
   "language": "python",
   "name": "python2"
  },
  "language_info": {
   "codemirror_mode": {
    "name": "ipython",
    "version": 2
   },
   "file_extension": ".py",
   "mimetype": "text/x-python",
   "name": "python",
   "nbconvert_exporter": "python",
   "pygments_lexer": "ipython2",
   "version": "2.7.10"
  }
 },
 "nbformat": 4,
 "nbformat_minor": 2
}
